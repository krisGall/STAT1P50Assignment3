{
 "cells": [
  {
   "cell_type": "markdown",
   "id": "d5747be6",
   "metadata": {},
   "source": [
    "Use LogisticRegression class of sklearn package to learn a logistic\n",
    "regression model that predicts chronic kidney disease based on other variables in Kidney Disease Data."
   ]
  },
  {
   "cell_type": "code",
   "execution_count": 12,
   "id": "61f370d9",
   "metadata": {},
   "outputs": [
    {
     "name": "stdout",
     "output_type": "stream",
     "text": [
      "[1 1 1 1 1 1 1 1 1 1 1 1 1 1 1 1 1 1 1 1 0 1 1 1 1 1 0 0 1 1 1 1 1 1 1 1 0\n",
      " 1 1 1 1 1 1 1 0 1 1 1 1 1 1 1 1 1 1 1 1 1 1 1 1 1 1 1 1 1 1 1 1 1 1 1 1 1\n",
      " 1 1 1 1 1 1 1 1 1 1 1 1 1 1 1 1 1 1 1 0 0 0 0 0 0 1 0 0 0 0 0 0 0 0 0 0 0\n",
      " 0 0 0 0 0 0 0 0 0 0 0 0 0 0 0 0 0 0 0 0 0 0 0 0 0 0 0 0 0 0 0 0 0 0 0 0 0\n",
      " 0 0 0 0 0 0 0 0 0 0 0 0 0 0 0 0 0 0 0 0 0 0 0 0 0 0 0 0 0 0 0 0 0 0 0 0 0\n",
      " 0 0 0 0 0 0 0 0 0 0 0 0 0 0 0 0 0 0 0 0 0 0 0 0 0 0 0 0 0 0 0 0 0 0 0 0 0\n",
      " 0 0 0 0]\n"
     ]
    },
    {
     "name": "stderr",
     "output_type": "stream",
     "text": [
      "/opt/homebrew/lib/python3.10/site-packages/sklearn/linear_model/_logistic.py:444: ConvergenceWarning: lbfgs failed to converge (status=1):\n",
      "STOP: TOTAL NO. of ITERATIONS REACHED LIMIT.\n",
      "\n",
      "Increase the number of iterations (max_iter) or scale the data as shown in:\n",
      "    https://scikit-learn.org/stable/modules/preprocessing.html\n",
      "Please also refer to the documentation for alternative solver options:\n",
      "    https://scikit-learn.org/stable/modules/linear_model.html#logistic-regression\n",
      "  n_iter_i = _check_optimize_result(\n"
     ]
    }
   ],
   "source": [
    "import pandas\n",
    "import sklearn.linear_model\n",
    "\n",
    "# Loading data and dropping lines with NaN values\n",
    "kidney_disease_data = pandas.read_csv('kidney_disease.csv')\n",
    "\n",
    "# Loading data\n",
    "blood_factors = pandas.DataFrame(kidney_disease_data[[\n",
    "    'age',\n",
    "    'bp',\n",
    "    'sod',\n",
    "    'pot',\n",
    "    'hemo',\n",
    "    'pcv',\n",
    "    'wc',\n",
    "    'rc'\n",
    "]])\n",
    "classification = pandas.Categorical(kidney_disease_data['ckd'])\n",
    "\n",
    "# Loading logistic model\n",
    "logistic_model = sklearn.linear_model.LogisticRegression()\n",
    "\n",
    "# Training logistic model\n",
    "trained_model = logistic_model.fit(blood_factors, classification)\n",
    "\n",
    "predicted_classification = logistic_model.predict(blood_factors)\n"
   ]
  },
  {
   "cell_type": "code",
   "execution_count": null,
   "id": "9ca59b1b",
   "metadata": {},
   "outputs": [],
   "source": []
  }
 ],
 "metadata": {
  "kernelspec": {
   "display_name": "Python 3 (ipykernel)",
   "language": "python",
   "name": "python3"
  },
  "language_info": {
   "codemirror_mode": {
    "name": "ipython",
    "version": 3
   },
   "file_extension": ".py",
   "mimetype": "text/x-python",
   "name": "python",
   "nbconvert_exporter": "python",
   "pygments_lexer": "ipython3",
   "version": "3.10.6"
  }
 },
 "nbformat": 4,
 "nbformat_minor": 5
}
