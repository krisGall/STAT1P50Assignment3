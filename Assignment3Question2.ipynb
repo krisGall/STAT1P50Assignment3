{
 "cells": [
  {
   "cell_type": "markdown",
   "id": "e240144b",
   "metadata": {},
   "source": [
    "Write a code to learn a multiple regression model to predict the ratio of\n",
    "violent crimes based on all the other variables. Report the most influential\n",
    "factor in violent crimes."
   ]
  },
  {
   "cell_type": "code",
   "execution_count": 47,
   "id": "6b647ed4",
   "metadata": {},
   "outputs": [
    {
     "name": "stdout",
     "output_type": "stream",
     "text": [
      "Feature Coefficients:\n",
      "('PctPopUnderPov', 0.4436717241530294)\n",
      "('PctUnderEmployed', 0.3781898043363281)\n",
      "('PolicPerPop', 0.08641983435947362)\n",
      "('Pcthomeless', 0.615207303140008)\n",
      "('PctBSorMore', -0.19004128982837643)\n"
     ]
    }
   ],
   "source": [
    "import pandas\n",
    "import sklearn.linear_model\n",
    "\n",
    "# Loading crime data\n",
    "crime_data = pandas.read_csv('crime.csv')\n",
    "crime_indices = crime_data[[\n",
    "    'PctPopUnderPov',\n",
    "    'PctUnemployed',\n",
    "    'PolicPerPop',\n",
    "    'Pcthomeless',\n",
    "    'PctBSorMore'\n",
    "]]\n",
    "violent_crime_per_capita = crime_data[['ViolentCrimesPerPop']]\n",
    "\n",
    "# Loading model\n",
    "regression_model = sklearn.linear_model.LinearRegression(fit_intercept = True)\n",
    "\n",
    "# Training model\n",
    "trained_model = regression_model.fit(violent_crime_per_capita, crime_indices)\n",
    "\n",
    "# Predicting violent crime\n",
    "predicted_violent_crime = trained_model.predict(violent_crime_per_capita)\n",
    "\n",
    "# Storing coefficients\n",
    "coefficients = {\n",
    "    'PctPopUnderPov': None,\n",
    "    'PctUnderEmployed': None,\n",
    "    'PolicPerPop': None,\n",
    "    'Pcthomeless': None,\n",
    "    'PctBSorMore': None\n",
    "}\n",
    "coef_to_add = 0\n",
    "for key in coefficients.keys():\n",
    "    coefficients[key] = trained_model.coef_.tolist()[coef_to_add][0]\n",
    "    coef_to_add += 1\n",
    "\n",
    "# Outputting coefficients\n",
    "print('Feature Coefficients:')\n",
    "for item in coefficients.items():\n",
    "    print(item)"
   ]
  },
  {
   "cell_type": "markdown",
   "id": "e24e7b1f",
   "metadata": {},
   "source": [
    "Homelessness appears to be the most influential factor for violent crimes"
   ]
  },
  {
   "cell_type": "code",
   "execution_count": null,
   "id": "04d08d55",
   "metadata": {},
   "outputs": [],
   "source": []
  }
 ],
 "metadata": {
  "kernelspec": {
   "display_name": "Python 3 (ipykernel)",
   "language": "python",
   "name": "python3"
  },
  "language_info": {
   "codemirror_mode": {
    "name": "ipython",
    "version": 3
   },
   "file_extension": ".py",
   "mimetype": "text/x-python",
   "name": "python",
   "nbconvert_exporter": "python",
   "pygments_lexer": "ipython3",
   "version": "3.10.6"
  }
 },
 "nbformat": 4,
 "nbformat_minor": 5
}
