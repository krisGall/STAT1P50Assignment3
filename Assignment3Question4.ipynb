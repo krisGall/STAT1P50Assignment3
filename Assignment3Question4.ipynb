{
 "cells": [
  {
   "cell_type": "markdown",
   "id": "b85ef552",
   "metadata": {},
   "source": [
    "Split Kidney Disease Data into two parts of training data (70%) and testing\n",
    "data (30%), and train the model in Question 3 using the training data. Then\n",
    "predict the chronic kidney disease for the testing data samples and report\n",
    "the accuracy and f1 score of the predictions."
   ]
  },
  {
   "cell_type": "code",
   "execution_count": 25,
   "id": "8d94b6af",
   "metadata": {},
   "outputs": [
    {
     "name": "stdout",
     "output_type": "stream",
     "text": [
      "Accuracy: 0.9411764705882353\n",
      "F1 Score: 0.923076923076923\n"
     ]
    },
    {
     "name": "stderr",
     "output_type": "stream",
     "text": [
      "/opt/homebrew/lib/python3.10/site-packages/sklearn/linear_model/_logistic.py:444: ConvergenceWarning: lbfgs failed to converge (status=1):\n",
      "STOP: TOTAL NO. of ITERATIONS REACHED LIMIT.\n",
      "\n",
      "Increase the number of iterations (max_iter) or scale the data as shown in:\n",
      "    https://scikit-learn.org/stable/modules/preprocessing.html\n",
      "Please also refer to the documentation for alternative solver options:\n",
      "    https://scikit-learn.org/stable/modules/linear_model.html#logistic-regression\n",
      "  n_iter_i = _check_optimize_result(\n"
     ]
    }
   ],
   "source": [
    "import pandas\n",
    "import sklearn.linear_model\n",
    "import sklearn.model_selection\n",
    "from sklearn.metrics import accuracy_score, f1_score\n",
    "\n",
    "# Loading data and dropping lines with NaN values\n",
    "kidney_disease_data = pandas.read_csv('kidney_disease.csv')\n",
    "\n",
    "# Loading data\n",
    "blood_factors = pandas.DataFrame(kidney_disease_data[[\n",
    "    'age',\n",
    "    'bp',\n",
    "    'sod',\n",
    "    'pot',\n",
    "    'hemo',\n",
    "    'pcv',\n",
    "    'wc',\n",
    "    'rc'\n",
    "]])\n",
    "classification = pandas.Categorical(kidney_disease_data['ckd'])\n",
    "\n",
    "# Splitting training data\n",
    "x_train, x_test, y_train, y_test = train_test_split(blood_factors, classification, test_size=0.3)\n",
    "\n",
    "# Loading logistic model\n",
    "logistic_model = sklearn.linear_model.LogisticRegression()\n",
    "\n",
    "# Training logistic model\n",
    "trained_model = logistic_model.fit(x_train, y_train)\n",
    "\n",
    "# Predicting \n",
    "y_predicted = logistic_model.predict(x_test)\n",
    "\n",
    "# Outputting accuracy and F1 score\n",
    "print('Accuracy:', accuracy_score(y_test, y_predicted))\n",
    "print('F1 Score:', f1_score(y_test, y_predicted))\n"
   ]
  },
  {
   "cell_type": "code",
   "execution_count": null,
   "id": "b716f736",
   "metadata": {},
   "outputs": [],
   "source": []
  }
 ],
 "metadata": {
  "kernelspec": {
   "display_name": "Python 3 (ipykernel)",
   "language": "python",
   "name": "python3"
  },
  "language_info": {
   "codemirror_mode": {
    "name": "ipython",
    "version": 3
   },
   "file_extension": ".py",
   "mimetype": "text/x-python",
   "name": "python",
   "nbconvert_exporter": "python",
   "pygments_lexer": "ipython3",
   "version": "3.10.6"
  }
 },
 "nbformat": 4,
 "nbformat_minor": 5
}
