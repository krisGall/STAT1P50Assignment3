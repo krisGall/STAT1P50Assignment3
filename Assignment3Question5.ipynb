{
 "cells": [
  {
   "cell_type": "code",
   "execution_count": 2,
   "id": "0130429a",
   "metadata": {},
   "outputs": [],
   "source": [
    "def get_frequency(input_string):\n",
    "    ''' gets the ratio of the highest frequency word to length of text'''\n",
    "    list_of_words = input_string.split(' ')\n",
    "    dict_of_frequencies = {}\n",
    "    \n",
    "    for word in list_of_words:\n",
    "        \n",
    "        if word in dict_of_frequencies.keys():\n",
    "            dict_of_frequencies[word] = dict_of_frequencies[word] + 1\n",
    "        else:\n",
    "            dict_of_frequencies[word] = 1\n",
    "        \n",
    "    return(max(dict_of_frequencies.values())/len(list_of_words))"
   ]
  },
  {
   "cell_type": "code",
   "execution_count": null,
   "id": "1535dd02",
   "metadata": {},
   "outputs": [],
   "source": []
  }
 ],
 "metadata": {
  "kernelspec": {
   "display_name": "Python 3 (ipykernel)",
   "language": "python",
   "name": "python3"
  },
  "language_info": {
   "codemirror_mode": {
    "name": "ipython",
    "version": 3
   },
   "file_extension": ".py",
   "mimetype": "text/x-python",
   "name": "python",
   "nbconvert_exporter": "python",
   "pygments_lexer": "ipython3",
   "version": "3.10.6"
  }
 },
 "nbformat": 4,
 "nbformat_minor": 5
}
