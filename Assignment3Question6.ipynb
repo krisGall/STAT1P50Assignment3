{
 "cells": [
  {
   "cell_type": "code",
   "execution_count": 32,
   "id": "053a18c8",
   "metadata": {},
   "outputs": [
    {
     "name": "stdout",
     "output_type": "stream",
     "text": [
      "Accuracy: 0.83\n"
     ]
    }
   ],
   "source": [
    "import pandas as pd\n",
    "import numpy as np\n",
    "from sklearn.model_selection import train_test_split\n",
    "from sklearn.linear_model import LogisticRegression\n",
    "from sklearn.metrics import accuracy_score\n",
    "from sklearn.preprocessing import LabelEncoder\n",
    "\n",
    "def get_frequency(input_string):\n",
    "    ''' gets the ratio of the highest frequency word to length of text'''\n",
    "    list_of_words = input_string.split(' ')\n",
    "    dict_of_frequencies = {}\n",
    "    \n",
    "    for word in list_of_words:\n",
    "        \n",
    "        if word in dict_of_frequencies.keys():\n",
    "            dict_of_frequencies[word] = dict_of_frequencies[word] + 1\n",
    "        else:\n",
    "            dict_of_frequencies[word] = 1\n",
    "        \n",
    "    return(max(dict_of_frequencies.values())/len(list_of_words))\n",
    "# Loading Email Data\n",
    "data = pd.read_csv('email.csv')\n",
    "\n",
    "# adding empty columns\n",
    "data['hyperlink'] = None\n",
    "data['free'] = None\n",
    "data['click'] = None\n",
    "data['business'] = None\n",
    "data['frequency'] = None\n",
    "\n",
    "email_text = data['email']\n",
    "words_to_check = ['hyperlink', 'free', 'click', 'business']\n",
    "\n",
    "# getting occurance of words and frequency of most common word\n",
    "for email in email_text:\n",
    "    for word in words_to_check:\n",
    "        if word in str(email):\n",
    "            data[word] = 1\n",
    "        data['frequency'] = get_frequency(str(email))\n",
    "\n",
    "# x-value DataFrame\n",
    "word_occurance = pd.DataFrame([\n",
    "    data['hyperlink'],\n",
    "    data['free'],\n",
    "    data['click'],\n",
    "    data['business'],\n",
    "    data['frequency']\n",
    "])\n",
    "# y-value DataFrame\n",
    "labels = pd.DataFrame([\n",
    "    data['label']\n",
    "])\n",
    "\n",
    "# Splitting training data\n",
    "x_train, x_test, y_train, y_test = train_test_split(word_occurance.T,\n",
    "                                                    np.ravel(labels.T),\n",
    "                                                    test_size=0.30)\n",
    "# Loading and fitting model\n",
    "logistic_model = LogisticRegression()\n",
    "fit_model = logistic_model.fit(x_train,y_train)\n",
    "\n",
    "# Predicting\n",
    "y_predicted = fit_model.predict(x_test)\n",
    "\n",
    "# Outputting accuracy\n",
    "print('Accuracy:', accuracy_score(y_test, y_predicted))"
   ]
  },
  {
   "cell_type": "code",
   "execution_count": null,
   "id": "89a2de32",
   "metadata": {},
   "outputs": [],
   "source": []
  }
 ],
 "metadata": {
  "kernelspec": {
   "display_name": "Python 3 (ipykernel)",
   "language": "python",
   "name": "python3"
  },
  "language_info": {
   "codemirror_mode": {
    "name": "ipython",
    "version": 3
   },
   "file_extension": ".py",
   "mimetype": "text/x-python",
   "name": "python",
   "nbconvert_exporter": "python",
   "pygments_lexer": "ipython3",
   "version": "3.10.6"
  }
 },
 "nbformat": 4,
 "nbformat_minor": 5
}
